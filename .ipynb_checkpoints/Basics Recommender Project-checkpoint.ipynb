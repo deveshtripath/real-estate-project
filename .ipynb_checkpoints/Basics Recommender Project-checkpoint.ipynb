{
 "cells": [
  {
   "cell_type": "code",
   "execution_count": 63,
   "id": "f403b05a",
   "metadata": {},
   "outputs": [],
   "source": [
    "# import pandas as pd\n",
    "\n",
    "# # Sample DataFrame with duplicate row names\n",
    "# data = {'Column1': [1, 2, 3, 4, 5],\n",
    "#         'Column2': [4, 5, 6, 7, 8],\n",
    "#         'Column3': [9, 10, 11, 12, 13],\n",
    "#         'Column4': [14, 15, 16, 17, 18],\n",
    "#         'Column5': [19, 20, 21, 22, 23]}\n",
    "\n",
    "# df = pd.DataFrame(data)\n",
    "\n",
    "# df"
   ]
  },
  {
   "cell_type": "code",
   "execution_count": 64,
   "id": "80955151",
   "metadata": {},
   "outputs": [],
   "source": [
    "# type = {'column1':['column3'],\n",
    "# 'column2': ['column4']}"
   ]
  },
  {
   "cell_type": "code",
   "execution_count": 12,
   "id": "103044a0",
   "metadata": {},
   "outputs": [
    {
     "data": {
      "text/plain": [
       "{'column1': ['column3'], 'column2': ['column4']}"
      ]
     },
     "execution_count": 12,
     "metadata": {},
     "output_type": "execute_result"
    }
   ],
   "source": []
  },
  {
   "cell_type": "code",
   "execution_count": null,
   "id": "8e77bf0f",
   "metadata": {},
   "outputs": [],
   "source": []
  },
  {
   "cell_type": "code",
   "execution_count": 65,
   "id": "49088b93",
   "metadata": {},
   "outputs": [],
   "source": [
    "# import pandas as pd\n",
    "\n",
    "# # Sample DataFrame\n",
    "# data = {\n",
    "#     'Column1': [1, 2, 3, 4, 5],\n",
    "#     'Column2': [4, 5, 6, 7, 8],\n",
    "#     'Column3': [9, 10, 11, 12, 13],\n",
    "#     'Column4': [14, 15, 16, 17, 18],\n",
    "#     'Column5': [19, 20, 21, 22, 23]\n",
    "# }\n",
    "\n",
    "# df = pd.DataFrame(data)\n",
    "# df.columns"
   ]
  },
  {
   "cell_type": "code",
   "execution_count": 67,
   "id": "216615e9",
   "metadata": {},
   "outputs": [],
   "source": [
    "# for i in df.columns:\n",
    "#     print(i)"
   ]
  },
  {
   "cell_type": "code",
   "execution_count": 62,
   "id": "c9749c5d",
   "metadata": {},
   "outputs": [
    {
     "name": "stdout",
     "output_type": "stream",
     "text": [
      "['column3', 'column4']\n",
      "   column1  column2  column5\n",
      "0       10       18       19\n",
      "1       12       20       20\n",
      "2       14       22       21\n",
      "3       16       24       22\n",
      "4       18       26       23\n"
     ]
    }
   ],
   "source": [
    "import pandas as pd\n",
    "\n",
    "# Sample DataFrame\n",
    "data = {\n",
    "    'column1': [1, 2, 3, 4, 5],\n",
    "    'column2': [4, 5, 6, 7, 8],\n",
    "    'column3': [9, 10, 11, 12, 13],\n",
    "    'column4': [14, 15, 16, 17, 18],\n",
    "    'column5': [19, 20, 21, 22, 23]\n",
    "}\n",
    "\n",
    "df = pd.DataFrame(data)\n",
    "\n",
    "# Dictionary specifying columns to merge\n",
    "dict1 = {\"column1\": \"column3\", \"column2\": \"column4\"}\n",
    "\n",
    "# Create a copy of the DataFrame\n",
    "merged_df = df.copy()\n",
    "\n",
    "# Iterate over the items in dict1\n",
    "for target_col, source_col in dict1.items():\n",
    "    # Merge columns based on the dictionary mapping\n",
    "    merged_df[target_col] = df[target_col] + df[source_col]\n",
    "list1 = []\n",
    "for target_col, source_col in dict1.items():\n",
    "    list1.append(source_col)\n",
    "print(list1)\n",
    "\n",
    "merged_df.drop(columns=list1, inplace=True)\n",
    "# Replace the original DataFrame with the merged DataFrame\n",
    "df = merged_df\n",
    "\n",
    "print(df)\n"
   ]
  },
  {
   "cell_type": "code",
   "execution_count": 66,
   "id": "99f7866e",
   "metadata": {},
   "outputs": [],
   "source": [
    "# for i in (dict1.items()):\n",
    "#     for k in dict1.values():\n",
    "#         print(k)"
   ]
  },
  {
   "cell_type": "code",
   "execution_count": null,
   "id": "e24db23e",
   "metadata": {},
   "outputs": [],
   "source": []
  }
 ],
 "metadata": {
  "kernelspec": {
   "display_name": "Python 3 (ipykernel)",
   "language": "python",
   "name": "python3"
  },
  "language_info": {
   "codemirror_mode": {
    "name": "ipython",
    "version": 3
   },
   "file_extension": ".py",
   "mimetype": "text/x-python",
   "name": "python",
   "nbconvert_exporter": "python",
   "pygments_lexer": "ipython3",
   "version": "3.11.4"
  }
 },
 "nbformat": 4,
 "nbformat_minor": 5
}
